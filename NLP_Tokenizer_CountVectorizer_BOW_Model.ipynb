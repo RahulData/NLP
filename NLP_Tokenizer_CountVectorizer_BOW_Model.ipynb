{
  "cells": [
    {
      "metadata": {
        "trusted": true
      },
      "cell_type": "code",
      "source": "from gensim.utils import simple_preprocess, lemmatize\n# from gensim.models import LdaModel, LdaMulticore\nfrom gensim import corpora\n# import gensim.downloader as api",
      "execution_count": 48,
      "outputs": []
    },
    {
      "metadata": {},
      "cell_type": "markdown",
      "source": "### WITH Gensim simple_preprocess() function for splitting the message / document"
    },
    {
      "metadata": {
        "trusted": true
      },
      "cell_type": "code",
      "source": "documents = ['Long years ago, we made a tryst with destiny; and now the time comes when we shall redeem our pledge, not wholly or in full measure, but very substantially.',\n             'At the stroke of the midnight hour, when the world sleeps, India will awake to life and freedom.']\ntokenized_list = [simple_preprocess(doc) for doc in documents]",
      "execution_count": 22,
      "outputs": []
    },
    {
      "metadata": {
        "trusted": true
      },
      "cell_type": "code",
      "source": "documents[0]",
      "execution_count": 3,
      "outputs": [
        {
          "output_type": "execute_result",
          "execution_count": 3,
          "data": {
            "text/plain": "'Long years ago, we made a tryst with destiny; and now the time comes when we shall redeem our pledge, not wholly or in full measure, but very substantially.'"
          },
          "metadata": {}
        }
      ]
    },
    {
      "metadata": {
        "trusted": true
      },
      "cell_type": "code",
      "source": "documents[1]",
      "execution_count": 4,
      "outputs": [
        {
          "output_type": "execute_result",
          "execution_count": 4,
          "data": {
            "text/plain": "'At the stroke of the midnight hour, when the world sleeps, India will awake to life and freedom.'"
          },
          "metadata": {}
        }
      ]
    },
    {
      "metadata": {
        "trusted": true
      },
      "cell_type": "code",
      "source": "tokenized_list[0][:8]",
      "execution_count": 5,
      "outputs": [
        {
          "output_type": "execute_result",
          "execution_count": 5,
          "data": {
            "text/plain": "['long', 'years', 'ago', 'we', 'made', 'tryst', 'with', 'destiny']"
          },
          "metadata": {}
        }
      ]
    },
    {
      "metadata": {
        "trusted": true
      },
      "cell_type": "code",
      "source": "tokenized_list[1][:8]",
      "execution_count": 6,
      "outputs": [
        {
          "output_type": "execute_result",
          "execution_count": 6,
          "data": {
            "text/plain": "['at', 'the', 'stroke', 'of', 'the', 'midnight', 'hour', 'when']"
          },
          "metadata": {}
        }
      ]
    },
    {
      "metadata": {
        "trusted": true
      },
      "cell_type": "code",
      "source": "import nltk\nnltk.download('stopwords')  # run once\nfrom nltk.corpus import stopwords\nstop_words = stopwords.words('english')\n# print(type(stop_words)) #list\nstop_words = stop_words + ['com', 'edu', 'would','ago','could','without','also','many','away','shall','near','must']",
      "execution_count": 25,
      "outputs": [
        {
          "output_type": "stream",
          "text": "[nltk_data] Downloading package stopwords to /home/nbuser/nltk_data...\n[nltk_data]   Package stopwords is already up-to-date!\n",
          "name": "stdout"
        }
      ]
    },
    {
      "metadata": {
        "trusted": true
      },
      "cell_type": "code",
      "source": "stop_words",
      "execution_count": null,
      "outputs": []
    },
    {
      "metadata": {},
      "cell_type": "markdown",
      "source": "### WITHOUT Gensim Using Split() function for splitting the message / document"
    },
    {
      "metadata": {
        "trusted": true
      },
      "cell_type": "code",
      "source": "texts = [[text for text in doc.split()] for doc in documents]",
      "execution_count": null,
      "outputs": []
    },
    {
      "metadata": {
        "trusted": true
      },
      "cell_type": "code",
      "source": "texts[0][:5]",
      "execution_count": null,
      "outputs": []
    },
    {
      "metadata": {
        "trusted": true
      },
      "cell_type": "code",
      "source": "tokenized_list[0][:5]",
      "execution_count": null,
      "outputs": []
    },
    {
      "metadata": {},
      "cell_type": "markdown",
      "source": "### Remove Punctuation and Get all tokens in lowercase from the text"
    },
    {
      "metadata": {
        "trusted": true
      },
      "cell_type": "code",
      "source": "import string\n'Rahul'.lower(), 'Names: Rahul, Nancy;'.translate(str.maketrans('', '', string.punctuation))",
      "execution_count": 39,
      "outputs": [
        {
          "output_type": "execute_result",
          "execution_count": 39,
          "data": {
            "text/plain": "('rahul', 'Names Rahul Nancy')"
          },
          "metadata": {}
        }
      ]
    },
    {
      "metadata": {
        "trusted": true
      },
      "cell_type": "code",
      "source": "string.punctuation",
      "execution_count": 43,
      "outputs": [
        {
          "output_type": "execute_result",
          "execution_count": 43,
          "data": {
            "text/plain": "'!\"#$%&\\'()*+,-./:;<=>?@[\\\\]^_`{|}~'"
          },
          "metadata": {}
        }
      ]
    },
    {
      "metadata": {
        "trusted": true
      },
      "cell_type": "code",
      "source": "def nopunc(mystr):\n    return mystr.translate(str.maketrans('', '', string.punctuation))",
      "execution_count": 40,
      "outputs": []
    },
    {
      "metadata": {
        "trusted": true
      },
      "cell_type": "code",
      "source": "# texts = [[text.lower() for text in doc.split() if text.lower() not in stop_words] for doc in documents]",
      "execution_count": 37,
      "outputs": []
    },
    {
      "metadata": {
        "trusted": true
      },
      "cell_type": "code",
      "source": "# texts[0][:5], texts[1][:5]",
      "execution_count": 38,
      "outputs": [
        {
          "output_type": "execute_result",
          "execution_count": 38,
          "data": {
            "text/plain": "(['long', 'years', 'ago,', 'made', 'tryst'],\n ['stroke', 'midnight', 'hour,', 'world', 'sleeps,'])"
          },
          "metadata": {}
        }
      ]
    },
    {
      "metadata": {
        "trusted": true
      },
      "cell_type": "code",
      "source": "texts = [[text.lower() for text in nopunc(doc).split() if text.lower() not in stop_words] for doc in documents]",
      "execution_count": 41,
      "outputs": []
    },
    {
      "metadata": {
        "trusted": true
      },
      "cell_type": "code",
      "source": "texts[0][:5], texts[1][:5]",
      "execution_count": 47,
      "outputs": [
        {
          "output_type": "execute_result",
          "execution_count": 47,
          "data": {
            "text/plain": "(['long', 'years', 'made', 'tryst', 'destiny'],\n ['stroke', 'midnight', 'hour', 'world', 'sleeps'])"
          },
          "metadata": {}
        }
      ]
    },
    {
      "metadata": {
        "trusted": true
      },
      "cell_type": "code",
      "source": "dct = corpora.Dictionary(texts)",
      "execution_count": 50,
      "outputs": []
    },
    {
      "metadata": {
        "trusted": true
      },
      "cell_type": "code",
      "source": "dct.token2id",
      "execution_count": 53,
      "outputs": [
        {
          "output_type": "execute_result",
          "execution_count": 53,
          "data": {
            "text/plain": "{'comes': 0,\n 'destiny': 1,\n 'full': 2,\n 'long': 3,\n 'made': 4,\n 'measure': 5,\n 'pledge': 6,\n 'redeem': 7,\n 'substantially': 8,\n 'time': 9,\n 'tryst': 10,\n 'wholly': 11,\n 'years': 12,\n 'awake': 13,\n 'freedom': 14,\n 'hour': 15,\n 'india': 16,\n 'life': 17,\n 'midnight': 18,\n 'sleeps': 19,\n 'stroke': 20,\n 'world': 21}"
          },
          "metadata": {}
        }
      ]
    },
    {
      "metadata": {
        "trusted": true
      },
      "cell_type": "code",
      "source": "# Maps every word or \"token\" to the dictionary\ncorpus = [dct.doc2bow(line) for line in texts]",
      "execution_count": 130,
      "outputs": []
    },
    {
      "metadata": {
        "trusted": true
      },
      "cell_type": "code",
      "source": "corpus",
      "execution_count": 131,
      "outputs": [
        {
          "output_type": "execute_result",
          "execution_count": 131,
          "data": {
            "text/plain": "[[(0, 1),\n  (1, 1),\n  (2, 1),\n  (3, 1),\n  (4, 1),\n  (5, 1),\n  (6, 1),\n  (7, 1),\n  (8, 1),\n  (9, 1),\n  (10, 1),\n  (11, 1),\n  (12, 1)],\n [(13, 1),\n  (14, 1),\n  (15, 1),\n  (16, 1),\n  (17, 1),\n  (18, 1),\n  (19, 1),\n  (20, 1),\n  (21, 1)]]"
          },
          "metadata": {}
        }
      ]
    },
    {
      "metadata": {
        "trusted": true
      },
      "cell_type": "code",
      "source": "dct.doc2idx(texts[0])",
      "execution_count": 58,
      "outputs": [
        {
          "output_type": "execute_result",
          "execution_count": 58,
          "data": {
            "text/plain": "[3, 12, 4, 10, 1, 9, 0, 7, 6, 11, 2, 5, 8]"
          },
          "metadata": {}
        }
      ]
    },
    {
      "metadata": {},
      "cell_type": "markdown",
      "source": "### Using SKLEARN CountVectorizer"
    },
    {
      "metadata": {
        "trusted": true
      },
      "cell_type": "code",
      "source": "from sklearn.feature_extraction.text import CountVectorizer",
      "execution_count": 56,
      "outputs": []
    },
    {
      "metadata": {
        "trusted": true
      },
      "cell_type": "code",
      "source": "# LOWER CASE\n# IGNORE PUNCTUATION\n# STOPWORDS\ndef tokenize(mess):\n#     return [word for word in mess.split() ]\n    return [word.lower() for word in nopunc(mess).split() if word.lower() not in stop_words]\n#     return [text.lower() for text in nopunc(doc).split() if text.lower() not in stop_words for doc in documents]",
      "execution_count": 114,
      "outputs": []
    },
    {
      "metadata": {
        "trusted": true
      },
      "cell_type": "code",
      "source": "# list1 = []\n# for doc in texts:\n#     for text in doc:\n#         if text not in list1:\n#             list1.append(text) \n# list1",
      "execution_count": 99,
      "outputs": []
    },
    {
      "metadata": {
        "trusted": true
      },
      "cell_type": "code",
      "source": "tokenize('India is a great country; it has lovely people')",
      "execution_count": 117,
      "outputs": [
        {
          "output_type": "execute_result",
          "execution_count": 117,
          "data": {
            "text/plain": "['india', 'great', 'country', 'lovely', 'people']"
          },
          "metadata": {}
        }
      ]
    },
    {
      "metadata": {
        "trusted": true
      },
      "cell_type": "code",
      "source": "nopunc('India is a great country; it has lovely people')",
      "execution_count": 118,
      "outputs": [
        {
          "output_type": "execute_result",
          "execution_count": 118,
          "data": {
            "text/plain": "'India is a great country it has lovely people'"
          },
          "metadata": {}
        }
      ]
    },
    {
      "metadata": {
        "trusted": true
      },
      "cell_type": "code",
      "source": "import pandas as pd",
      "execution_count": 104,
      "outputs": []
    },
    {
      "metadata": {
        "trusted": true
      },
      "cell_type": "code",
      "source": "my_corpus = pd.DataFrame({'tokens':texts, 'message':documents})\nmy_corpus",
      "execution_count": 124,
      "outputs": [
        {
          "output_type": "execute_result",
          "execution_count": 124,
          "data": {
            "text/html": "<div>\n<style scoped>\n    .dataframe tbody tr th:only-of-type {\n        vertical-align: middle;\n    }\n\n    .dataframe tbody tr th {\n        vertical-align: top;\n    }\n\n    .dataframe thead th {\n        text-align: right;\n    }\n</style>\n<table border=\"1\" class=\"dataframe\">\n  <thead>\n    <tr style=\"text-align: right;\">\n      <th></th>\n      <th>tokens</th>\n      <th>message</th>\n    </tr>\n  </thead>\n  <tbody>\n    <tr>\n      <th>0</th>\n      <td>[long, years, made, tryst, destiny, time, come...</td>\n      <td>Long years ago, we made a tryst with destiny; ...</td>\n    </tr>\n    <tr>\n      <th>1</th>\n      <td>[stroke, midnight, hour, world, sleeps, india,...</td>\n      <td>At the stroke of the midnight hour, when the w...</td>\n    </tr>\n  </tbody>\n</table>\n</div>",
            "text/plain": "                                              tokens  \\\n0  [long, years, made, tryst, destiny, time, come...   \n1  [stroke, midnight, hour, world, sleeps, india,...   \n\n                                             message  \n0  Long years ago, we made a tryst with destiny; ...  \n1  At the stroke of the midnight hour, when the w...  "
          },
          "metadata": {}
        }
      ]
    },
    {
      "metadata": {
        "trusted": true
      },
      "cell_type": "code",
      "source": "# Z = CountVectorizer()\n# Two Parameters: TOKEINZE Function, and Untokenized Column in a dataframe\nz1 = CountVectorizer(analyzer=tokenize).fit(my_corpus['message'])\nCountVectorizer()",
      "execution_count": 121,
      "outputs": [
        {
          "output_type": "execute_result",
          "execution_count": 121,
          "data": {
            "text/plain": "CountVectorizer(analyzer='word', binary=False, decode_error='strict',\n        dtype=<class 'numpy.int64'>, encoding='utf-8', input='content',\n        lowercase=True, max_df=1.0, max_features=None, min_df=1,\n        ngram_range=(1, 1), preprocessor=None, stop_words=None,\n        strip_accents=None, token_pattern='(?u)\\\\b\\\\w\\\\w+\\\\b',\n        tokenizer=None, vocabulary=None)"
          },
          "metadata": {}
        }
      ]
    },
    {
      "metadata": {
        "trusted": true
      },
      "cell_type": "code",
      "source": "z1",
      "execution_count": 68,
      "outputs": [
        {
          "output_type": "execute_result",
          "execution_count": 68,
          "data": {
            "text/plain": "CountVectorizer(analyzer=<function tokenize at 0x7f4a631edd90>, binary=False,\n        decode_error='strict', dtype=<class 'numpy.int64'>,\n        encoding='utf-8', input='content', lowercase=True, max_df=1.0,\n        max_features=None, min_df=1, ngram_range=(1, 1), preprocessor=None,\n        stop_words=None, strip_accents=None,\n        token_pattern='(?u)\\\\b\\\\w\\\\w+\\\\b', tokenizer=None, vocabulary=None)"
          },
          "metadata": {}
        }
      ]
    },
    {
      "metadata": {
        "trusted": true
      },
      "cell_type": "code",
      "source": "z1.get_feature_names()",
      "execution_count": 122,
      "outputs": [
        {
          "output_type": "execute_result",
          "execution_count": 122,
          "data": {
            "text/plain": "['awake',\n 'comes',\n 'destiny',\n 'freedom',\n 'full',\n 'hour',\n 'india',\n 'life',\n 'long',\n 'made',\n 'measure',\n 'midnight',\n 'pledge',\n 'redeem',\n 'sleeps',\n 'stroke',\n 'substantially',\n 'time',\n 'tryst',\n 'wholly',\n 'world',\n 'years']"
          },
          "metadata": {}
        }
      ]
    },
    {
      "metadata": {
        "trusted": true
      },
      "cell_type": "code",
      "source": "z1.vocabulary_",
      "execution_count": 123,
      "outputs": [
        {
          "output_type": "execute_result",
          "execution_count": 123,
          "data": {
            "text/plain": "{'long': 8,\n 'years': 21,\n 'made': 9,\n 'tryst': 18,\n 'destiny': 2,\n 'time': 17,\n 'comes': 1,\n 'redeem': 13,\n 'pledge': 12,\n 'wholly': 19,\n 'full': 4,\n 'measure': 10,\n 'substantially': 16,\n 'stroke': 15,\n 'midnight': 11,\n 'hour': 5,\n 'world': 20,\n 'sleeps': 14,\n 'india': 6,\n 'awake': 0,\n 'life': 7,\n 'freedom': 3}"
          },
          "metadata": {}
        }
      ]
    },
    {
      "metadata": {
        "trusted": true
      },
      "cell_type": "code",
      "source": "messages_bow = z1.transform(my_corpus['message'])",
      "execution_count": 125,
      "outputs": []
    },
    {
      "metadata": {
        "trusted": true
      },
      "cell_type": "code",
      "source": "type(messages_bow), messages_bow.toarray()",
      "execution_count": 129,
      "outputs": [
        {
          "output_type": "execute_result",
          "execution_count": 129,
          "data": {
            "text/plain": "(scipy.sparse.csr.csr_matrix,\n array([[0, 1, 1, 0, 1, 0, 0, 0, 1, 1, 1, 0, 1, 1, 0, 0, 1, 1, 1, 1, 0, 1],\n        [1, 0, 0, 1, 0, 1, 1, 1, 0, 0, 0, 1, 0, 0, 1, 1, 0, 0, 0, 0, 1, 0]]))"
          },
          "metadata": {}
        }
      ]
    },
    {
      "metadata": {
        "trusted": true
      },
      "cell_type": "code",
      "source": "new_df = pd.DataFrame(columns=z1.get_feature_names(), data=messages_bow.toarray())",
      "execution_count": 136,
      "outputs": []
    },
    {
      "metadata": {
        "trusted": true
      },
      "cell_type": "code",
      "source": "new_df",
      "execution_count": 137,
      "outputs": [
        {
          "output_type": "execute_result",
          "execution_count": 137,
          "data": {
            "text/html": "<div>\n<style scoped>\n    .dataframe tbody tr th:only-of-type {\n        vertical-align: middle;\n    }\n\n    .dataframe tbody tr th {\n        vertical-align: top;\n    }\n\n    .dataframe thead th {\n        text-align: right;\n    }\n</style>\n<table border=\"1\" class=\"dataframe\">\n  <thead>\n    <tr style=\"text-align: right;\">\n      <th></th>\n      <th>awake</th>\n      <th>comes</th>\n      <th>destiny</th>\n      <th>freedom</th>\n      <th>full</th>\n      <th>hour</th>\n      <th>india</th>\n      <th>life</th>\n      <th>long</th>\n      <th>made</th>\n      <th>...</th>\n      <th>pledge</th>\n      <th>redeem</th>\n      <th>sleeps</th>\n      <th>stroke</th>\n      <th>substantially</th>\n      <th>time</th>\n      <th>tryst</th>\n      <th>wholly</th>\n      <th>world</th>\n      <th>years</th>\n    </tr>\n  </thead>\n  <tbody>\n    <tr>\n      <th>0</th>\n      <td>0</td>\n      <td>1</td>\n      <td>1</td>\n      <td>0</td>\n      <td>1</td>\n      <td>0</td>\n      <td>0</td>\n      <td>0</td>\n      <td>1</td>\n      <td>1</td>\n      <td>...</td>\n      <td>1</td>\n      <td>1</td>\n      <td>0</td>\n      <td>0</td>\n      <td>1</td>\n      <td>1</td>\n      <td>1</td>\n      <td>1</td>\n      <td>0</td>\n      <td>1</td>\n    </tr>\n    <tr>\n      <th>1</th>\n      <td>1</td>\n      <td>0</td>\n      <td>0</td>\n      <td>1</td>\n      <td>0</td>\n      <td>1</td>\n      <td>1</td>\n      <td>1</td>\n      <td>0</td>\n      <td>0</td>\n      <td>...</td>\n      <td>0</td>\n      <td>0</td>\n      <td>1</td>\n      <td>1</td>\n      <td>0</td>\n      <td>0</td>\n      <td>0</td>\n      <td>0</td>\n      <td>1</td>\n      <td>0</td>\n    </tr>\n  </tbody>\n</table>\n<p>2 rows × 22 columns</p>\n</div>",
            "text/plain": "   awake  comes  destiny  freedom  full  hour  india  life  long  made  ...    \\\n0      0      1        1        0     1     0      0     0     1     1  ...     \n1      1      0        0        1     0     1      1     1     0     0  ...     \n\n   pledge  redeem  sleeps  stroke  substantially  time  tryst  wholly  world  \\\n0       1       1       0       0              1     1      1       1      0   \n1       0       0       1       1              0     0      0       0      1   \n\n   years  \n0      1  \n1      0  \n\n[2 rows x 22 columns]"
          },
          "metadata": {}
        }
      ]
    }
  ],
  "metadata": {
    "kernelspec": {
      "name": "python36",
      "display_name": "Python 3.6",
      "language": "python"
    },
    "language_info": {
      "mimetype": "text/x-python",
      "nbconvert_exporter": "python",
      "name": "python",
      "pygments_lexer": "ipython3",
      "version": "3.6.6",
      "file_extension": ".py",
      "codemirror_mode": {
        "version": 3,
        "name": "ipython"
      }
    }
  },
  "nbformat": 4,
  "nbformat_minor": 1
}